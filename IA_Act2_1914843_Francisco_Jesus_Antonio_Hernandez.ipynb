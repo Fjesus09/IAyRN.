{
  "nbformat": 4,
  "nbformat_minor": 0,
  "metadata": {
    "colab": {
      "provenance": [],
      "collapsed_sections": [],
      "authorship_tag": "ABX9TyM8JL2PjjQYXHhDpo8JRgbo",
      "include_colab_link": true
    },
    "kernelspec": {
      "name": "python3",
      "display_name": "Python 3"
    },
    "language_info": {
      "name": "python"
    }
  },
  "cells": [
    {
      "cell_type": "markdown",
      "metadata": {
        "id": "view-in-github",
        "colab_type": "text"
      },
      "source": [
        "<a href=\"https://colab.research.google.com/github/Fjesus09/IAyRN./blob/main/IA_Act2_1914843_Francisco_Jesus_Antonio_Hernandez.ipynb\" target=\"_parent\"><img src=\"https://colab.research.google.com/assets/colab-badge.svg\" alt=\"Open In Colab\"/></a>"
      ]
    },
    {
      "cell_type": "code",
      "execution_count": null,
      "metadata": {
        "id": "sJF7zU5a9Xq6"
      },
      "outputs": [],
      "source": [
        "\"\"\" Actividad 2: Ejercicios de phyton 1\n",
        "   Francisco Jesus Antonio Hernandez    1914843\n",
        "   Hora: V6       Grupo:007                  \"\"\""
      ]
    },
    {
      "cell_type": "code",
      "source": [
        "\n",
        "#Escribe un programa que le pida al usuario por su nombre y que lo salude con su nombre, excepto si se llama “Ana”, “Juan”, y “Pedro”. \n",
        "\n",
        "a=\"juan\"\n",
        "A=\"Juan\"\n",
        "b=\"ana\"\n",
        "B=\"Ana\"\n",
        "c=\"pedro\"\n",
        "C=\"Pedro\"\n",
        "d=\"Hola mucho gusto \"\n",
        "x = input(\"¿Cual es tu nombre?: \")\n",
        "if x == a or x == A:\n",
        "  print(\"    \")\n",
        "elif x == b or x == B:\n",
        "  print(\"    \")\n",
        "elif x == c or x == C:\n",
        "  print (\"    \")\n",
        "else:\n",
        "  print(d+x)\n",
        "\n",
        "\n"
      ],
      "metadata": {
        "colab": {
          "base_uri": "https://localhost:8080/"
        },
        "id": "b2jS57XfI9uq",
        "outputId": "8e0b479f-5c3d-475b-a936-d91570bfbe7a"
      },
      "execution_count": null,
      "outputs": [
        {
          "output_type": "stream",
          "name": "stdout",
          "text": [
            "¿Cual es tu nombre?: Anahi\n",
            "Hola mucho gusto Anahi\n"
          ]
        }
      ]
    },
    {
      "cell_type": "code",
      "source": [
        "#Escribe una función que regrese el último elemento de una lista y que revierta el orden de la lista e imprima la lista revertida. \n",
        "def mi_funcion(lista):\n",
        "  print(\"El ultimo numero de la lista es: \")\n",
        "  print(lista[-1])\n",
        "  print(\"La lista revertida es: \")\n",
        "  for x in reversed(lista):  \n",
        "   \n",
        "   print(x)\n",
        "    \n",
        "lista=[1,2,3,4,5,6,7,8,9]\n",
        "\n",
        "\n",
        "mi_funcion(lista)"
      ],
      "metadata": {
        "colab": {
          "base_uri": "https://localhost:8080/"
        },
        "id": "bdST_ALKOH4G",
        "outputId": "e6f7850f-6757-4592-8c7d-1930bdcc3f68"
      },
      "execution_count": null,
      "outputs": [
        {
          "output_type": "stream",
          "name": "stdout",
          "text": [
            "El ultimo numero de la lista es: \n",
            "9\n",
            "La lista revertida es: \n",
            "9\n",
            "8\n",
            "7\n",
            "6\n",
            "5\n",
            "4\n",
            "3\n",
            "2\n",
            "1\n"
          ]
        }
      ]
    },
    {
      "cell_type": "code",
      "source": [
        "#Escribe una función que toma una lista de strings y los imprima línea por línea en un marco rectangular. \n",
        "def mi_funcion(marco):\n",
        "  for x in marco:\n",
        "   print(x)\n",
        "  \n",
        "marco=[\"*******\",\"*Hola *\",\"*a    *\",\"*todos*\",\"*esto *\",\"*Es   *\",\"*un   *\",\"*marco*\",\"*******\"];\n",
        "\n",
        "\n",
        "mi_funcion(marco)\n"
      ],
      "metadata": {
        "colab": {
          "base_uri": "https://localhost:8080/"
        },
        "id": "2jPEAYdqCH7Q",
        "outputId": "af3a96ad-120d-4b48-dffb-a61253ba2b5d"
      },
      "execution_count": null,
      "outputs": [
        {
          "output_type": "stream",
          "name": "stdout",
          "text": [
            "*******\n",
            "*Hola *\n",
            "*a    *\n",
            "*todos*\n",
            "*esto *\n",
            "*Es   *\n",
            "*un   *\n",
            "*marco*\n",
            "*******\n"
          ]
        }
      ]
    }
  ]
}